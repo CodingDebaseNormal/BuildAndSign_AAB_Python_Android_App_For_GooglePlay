{
  "nbformat": 4,
  "nbformat_minor": 0,
  "metadata": {
    "colab": {
      "name": "Untitled1.ipynb",
      "provenance": [],
      "authorship_tag": "ABX9TyN1gbs7aRW96pyVPRE9QOZi",
      "include_colab_link": true
    },
    "kernelspec": {
      "name": "python3",
      "display_name": "Python 3"
    },
    "language_info": {
      "name": "python"
    }
  },
  "cells": [
    {
      "cell_type": "markdown",
      "metadata": {
        "id": "view-in-github",
        "colab_type": "text"
      },
      "source": [
        "<a href=\"https://colab.research.google.com/github/CodingDebaseNormal/BuildAndSign_AAB_Python_Android_App_For_GooglePlay/blob/main/Build_Sign_AAB_PythonAndroidApp_for_GooglePlay.ipynb\" target=\"_parent\"><img src=\"https://colab.research.google.com/assets/colab-badge.svg\" alt=\"Open In Colab\"/></a>"
      ]
    },
    {
      "cell_type": "markdown",
      "source": [
        "Installations"
      ],
      "metadata": {
        "id": "ym6zqoV7lhmo"
      }
    },
    {
      "cell_type": "code",
      "source": [
        "sudo apt install python3"
      ],
      "metadata": {
        "id": "YYEmMNaflkko"
      },
      "execution_count": null,
      "outputs": []
    },
    {
      "cell_type": "code",
      "source": [
        "sudo apt update"
      ],
      "metadata": {
        "id": "AZr0vBrXlml9"
      },
      "execution_count": null,
      "outputs": []
    },
    {
      "cell_type": "code",
      "source": [
        "sudo apt install -y git zip unzip openjdk-13-jdk python3-pip autoconf libtool pkg-config zlib1g-dev libncurses5-dev libncursesw5-dev libtinfo5 cmake libffi-dev libssl-dev"
      ],
      "metadata": {
        "id": "xJMRAHLXloMp"
      },
      "execution_count": null,
      "outputs": []
    },
    {
      "cell_type": "code",
      "source": [
        "pip3 install git+https://github.com/misl6/buildozer.git@feat/aab-support"
      ],
      "metadata": {
        "id": "HFEN3fqilpY3"
      },
      "execution_count": null,
      "outputs": []
    },
    {
      "cell_type": "code",
      "source": [
        "pip3 install cython"
      ],
      "metadata": {
        "id": "YoUeRJ9blqJD"
      },
      "execution_count": null,
      "outputs": []
    },
    {
      "cell_type": "markdown",
      "source": [
        "Bash changes"
      ],
      "metadata": {
        "id": "fMf7BIOFlsqc"
      }
    },
    {
      "cell_type": "code",
      "source": [
        "echo 'export PATH=$PATH:~/.local/bin/' >> .bashrc"
      ],
      "metadata": {
        "id": "e_67dH0lltxE"
      },
      "execution_count": null,
      "outputs": []
    },
    {
      "cell_type": "code",
      "source": [
        "source .bashrc"
      ],
      "metadata": {
        "id": "6abnjFdYlvID"
      },
      "execution_count": null,
      "outputs": []
    },
    {
      "cell_type": "markdown",
      "source": [
        "Creating your .AAB (or .APK) -- You need to first go into your project's directory (where your .py and all the other files are located)"
      ],
      "metadata": {
        "id": "QiBBsTVTlwUv"
      }
    },
    {
      "cell_type": "code",
      "source": [
        "buildozer init"
      ],
      "metadata": {
        "id": "s0hZnDsGlzPx"
      },
      "execution_count": null,
      "outputs": []
    },
    {
      "cell_type": "markdown",
      "source": [
        "These are the changes you need to make to your buildozer.spec file:\n",
        "\n",
        "package.domain = org.myappname\n",
        "\n",
        "android.api = 30\n",
        "\n",
        "p4a.branch = develop\n",
        "\n",
        "android.archs = arm64-v8a, armeabi-v7a\n",
        "\n",
        "android.release_artifact = aab"
      ],
      "metadata": {
        "id": "w-TUuLIjl-Gx"
      }
    },
    {
      "cell_type": "code",
      "source": [
        "buildozer -v android release"
      ],
      "metadata": {
        "id": "idYZgZjTmHvW"
      },
      "execution_count": null,
      "outputs": []
    },
    {
      "cell_type": "markdown",
      "source": [
        "Signing your .AAB to make it publishable on Google Play"
      ],
      "metadata": {
        "id": "2V3aB5DJmTrz"
      }
    },
    {
      "cell_type": "code",
      "source": [
        "mkdir -p ~/keystores/"
      ],
      "metadata": {
        "id": "7xrPkhyDmWUZ"
      },
      "execution_count": null,
      "outputs": []
    },
    {
      "cell_type": "code",
      "source": [
        "keytool -genkey -v -keystore ~/keystores/<YOUR-KEY-NAME>.keystore -alias <YOUR-ALIAS> -keyalg RSA -keysize 2048 -validity 10000"
      ],
      "metadata": {
        "id": "MGGrJw-GmYVL"
      },
      "execution_count": null,
      "outputs": []
    },
    {
      "cell_type": "code",
      "source": [
        "keytool -importkeystore -srckeystore ~/keystores/<YOUR-KEY-NAME>.keystore -destkeystore ~/keystores/<YOUR-KEY-NAME>.keystore -deststoretype pkcs12"
      ],
      "metadata": {
        "id": "REx4l3xTmj6y"
      },
      "execution_count": null,
      "outputs": []
    },
    {
      "cell_type": "code",
      "source": [
        "export P4A_RELEASE_KEYSTORE=~/keystores/<YOUR-KEY-NAME>.keystore"
      ],
      "metadata": {
        "id": "5s_hgTiVmqgU"
      },
      "execution_count": null,
      "outputs": []
    },
    {
      "cell_type": "code",
      "source": [
        "export P4A_RELEASE_KEYSTORE_PASSWD=<YOUR-PASSWORD>"
      ],
      "metadata": {
        "id": "UnrpAhPemu5Y"
      },
      "execution_count": null,
      "outputs": []
    },
    {
      "cell_type": "code",
      "source": [
        "export P4A_RELEASE_KEYALIAS_PASSWD=<YOUR-PASSWORD>"
      ],
      "metadata": {
        "id": "jLQxUBtomyvL"
      },
      "execution_count": null,
      "outputs": []
    },
    {
      "cell_type": "code",
      "source": [
        "export P4A_RELEASE_KEYALIAS=<YOUR-ALIAS>"
      ],
      "metadata": {
        "id": "TNZCZfF5m2sH"
      },
      "execution_count": null,
      "outputs": []
    },
    {
      "cell_type": "code",
      "source": [
        "buildozer -v android release"
      ],
      "metadata": {
        "id": "a0XMVJ3tm8Im"
      },
      "execution_count": null,
      "outputs": []
    }
  ]
}